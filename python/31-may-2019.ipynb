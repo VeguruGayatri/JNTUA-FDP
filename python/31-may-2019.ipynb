{
 "cells": [
  {
   "cell_type": "markdown",
   "metadata": {},
   "source": [
    "#JNTUA FDP-Day 05\n",
    "## Date: 31 may 2019\n",
    "#### Day Objectives\n",
    "* tuples\n",
    "* dictionaries\n",
    "* idiomatic programming\n",
    "* regular expressions\n",
    "* Linear and Binary search\n",
    "* Date arithmetic\n",
    "* Iterators and Generators\n",
    "* Functional Programming\n"
   ]
  },
  {
   "cell_type": "markdown",
   "metadata": {},
   "source": [
    "### Python Tuples"
   ]
  },
  {
   "cell_type": "code",
   "execution_count": 1,
   "metadata": {},
   "outputs": [],
   "source": [
    "t1 = (1001, 'Sindhu', 92,72,)\n",
    "\n"
   ]
  },
  {
   "cell_type": "code",
   "execution_count": 2,
   "metadata": {},
   "outputs": [
    {
     "data": {
      "text/plain": [
       "(1001, 'Sindhu', 92, 72)"
      ]
     },
     "execution_count": 2,
     "metadata": {},
     "output_type": "execute_result"
    }
   ],
   "source": [
    "t1\n"
   ]
  },
  {
   "cell_type": "code",
   "execution_count": 3,
   "metadata": {},
   "outputs": [
    {
     "ename": "AttributeError",
     "evalue": "'tuple' object has no attribute 'append'",
     "output_type": "error",
     "traceback": [
      "\u001b[1;31m---------------------------------------------------------------------------\u001b[0m",
      "\u001b[1;31mAttributeError\u001b[0m                            Traceback (most recent call last)",
      "\u001b[1;32m<ipython-input-3-a2c20840c882>\u001b[0m in \u001b[0;36m<module>\u001b[1;34m\u001b[0m\n\u001b[1;32m----> 1\u001b[1;33m \u001b[0mt1\u001b[0m\u001b[1;33m.\u001b[0m\u001b[0mappend\u001b[0m\u001b[1;33m(\u001b[0m\u001b[1;36m45\u001b[0m\u001b[1;33m)\u001b[0m\u001b[1;33m\u001b[0m\u001b[1;33m\u001b[0m\u001b[0m\n\u001b[0m",
      "\u001b[1;31mAttributeError\u001b[0m: 'tuple' object has no attribute 'append'"
     ]
    }
   ],
   "source": [
    "t1.append(45)"
   ]
  },
  {
   "cell_type": "code",
   "execution_count": 4,
   "metadata": {},
   "outputs": [
    {
     "ename": "AttributeError",
     "evalue": "'tuple' object has no attribute 'sort'",
     "output_type": "error",
     "traceback": [
      "\u001b[1;31m---------------------------------------------------------------------------\u001b[0m",
      "\u001b[1;31mAttributeError\u001b[0m                            Traceback (most recent call last)",
      "\u001b[1;32m<ipython-input-4-5a6cb2ed75f6>\u001b[0m in \u001b[0;36m<module>\u001b[1;34m\u001b[0m\n\u001b[1;32m----> 1\u001b[1;33m \u001b[0mt1\u001b[0m\u001b[1;33m.\u001b[0m\u001b[0msort\u001b[0m\u001b[1;33m(\u001b[0m\u001b[1;33m)\u001b[0m\u001b[1;33m\u001b[0m\u001b[1;33m\u001b[0m\u001b[0m\n\u001b[0m",
      "\u001b[1;31mAttributeError\u001b[0m: 'tuple' object has no attribute 'sort'"
     ]
    }
   ],
   "source": [
    "t1.sort()\n"
   ]
  },
  {
   "cell_type": "code",
   "execution_count": 5,
   "metadata": {},
   "outputs": [
    {
     "ename": "TypeError",
     "evalue": "'tuple' object is not callable",
     "output_type": "error",
     "traceback": [
      "\u001b[1;31m---------------------------------------------------------------------------\u001b[0m",
      "\u001b[1;31mTypeError\u001b[0m                                 Traceback (most recent call last)",
      "\u001b[1;32m<ipython-input-5-408fc4faac52>\u001b[0m in \u001b[0;36m<module>\u001b[1;34m\u001b[0m\n\u001b[1;32m----> 1\u001b[1;33m \u001b[0mt1\u001b[0m\u001b[1;33m(\u001b[0m\u001b[1;36m0\u001b[0m\u001b[1;33m)\u001b[0m\u001b[1;33m\u001b[0m\u001b[1;33m\u001b[0m\u001b[0m\n\u001b[0m",
      "\u001b[1;31mTypeError\u001b[0m: 'tuple' object is not callable"
     ]
    }
   ],
   "source": [
    "t1(0)\n"
   ]
  },
  {
   "cell_type": "code",
   "execution_count": 6,
   "metadata": {},
   "outputs": [
    {
     "data": {
      "text/plain": [
       "1001"
      ]
     },
     "execution_count": 6,
     "metadata": {},
     "output_type": "execute_result"
    }
   ],
   "source": [
    "t1[0]\n"
   ]
  },
  {
   "cell_type": "code",
   "execution_count": 7,
   "metadata": {},
   "outputs": [
    {
     "data": {
      "text/plain": [
       "(92, 72)"
      ]
     },
     "execution_count": 7,
     "metadata": {},
     "output_type": "execute_result"
    }
   ],
   "source": [
    "t1[2:]"
   ]
  },
  {
   "cell_type": "code",
   "execution_count": 9,
   "metadata": {},
   "outputs": [
    {
     "name": "stdout",
     "output_type": "stream",
     "text": [
      "258\n"
     ]
    }
   ],
   "source": [
    "# accessing 2nd digit of all elements in tuple\n",
    "\n",
    "t2 = (321,654,789098)\n",
    "\n",
    "print(str(t2[0])[1]  + str(t2[1])[1] + str(t2[2])[1])\n"
   ]
  },
  {
   "cell_type": "code",
   "execution_count": 10,
   "metadata": {},
   "outputs": [
    {
     "name": "stdout",
     "output_type": "stream",
     "text": [
      "2 5 8\n"
     ]
    }
   ],
   "source": [
    "# accessing 2nd digit of all elements in tuple with spaces\n",
    "t2 = (321,654,789098)\n",
    "\n",
    "print(str(t2[0])[1],   str(t2[1])[1],  str(t2[2])[1])\n"
   ]
  },
  {
   "cell_type": "code",
   "execution_count": 12,
   "metadata": {},
   "outputs": [
    {
     "data": {
      "text/plain": [
       "263357.6666666667"
      ]
     },
     "execution_count": 12,
     "metadata": {},
     "output_type": "execute_result"
    }
   ],
   "source": [
    "# average of all elements in a tuple\n",
    "\n",
    "def averagetuple(t):\n",
    "    sum=0\n",
    "    for i in range(0,len(t)):\n",
    "        sum += t[i]\n",
    "    return sum/len(t)\n",
    "\n",
    "averagetuple(t2)\n",
    "\n"
   ]
  },
  {
   "cell_type": "code",
   "execution_count": 16,
   "metadata": {},
   "outputs": [
    {
     "data": {
      "text/plain": [
       "478.0"
      ]
     },
     "execution_count": 16,
     "metadata": {},
     "output_type": "execute_result"
    }
   ],
   "source": [
    "# average of all elements in a linearDS except string\n",
    "\n",
    "def averageLinearDS(t):\n",
    "    sum=0\n",
    "    for i in range(0,len(t)):\n",
    "        sum += t[i]\n",
    "    return sum/len(t)\n",
    "\n",
    "li = [123,243,456,678,890]\n",
    "\n",
    "averageLinearDS(li)"
   ]
  },
  {
   "cell_type": "code",
   "execution_count": 19,
   "metadata": {},
   "outputs": [
    {
     "name": "stdout",
     "output_type": "stream",
     "text": [
      "-1\n",
      "2\n"
     ]
    }
   ],
   "source": [
    "# Function to search in a Linear Data Structure\n",
    "\n",
    "def searchLinearDS(ds,key):\n",
    "    for i in range(0,len(ds)):\n",
    "            if ds[i]==key:\n",
    "                return i\n",
    "    return -1\n",
    "print(searchLinearDS(li,945))   # li already created. refer above.\n",
    "print(searchLinearDS(li,456))\n",
    "\n",
    "        \n",
    "            "
   ]
  },
  {
   "cell_type": "markdown",
   "metadata": {},
   "source": [
    "#### Iterable objects"
   ]
  },
  {
   "cell_type": "code",
   "execution_count": 21,
   "metadata": {},
   "outputs": [
    {
     "name": "stdout",
     "output_type": "stream",
     "text": [
      "p\n",
      "y\n",
      "t\n",
      "h\n",
      "o\n",
      "n\n"
     ]
    }
   ],
   "source": [
    "s=\"python\"\n",
    "for i in s:\n",
    "    print(i)"
   ]
  },
  {
   "cell_type": "code",
   "execution_count": 22,
   "metadata": {},
   "outputs": [
    {
     "data": {
      "text/plain": [
       "478.0"
      ]
     },
     "execution_count": 22,
     "metadata": {},
     "output_type": "execute_result"
    }
   ],
   "source": [
    "# average of all elements in a linearDS except string  using iterable objects\n",
    "\n",
    "def averageLinearDS(t):\n",
    "    sum=0\n",
    "    for i in t:                           # for i in range(0,len(t)):   \n",
    "                                           # sum += t[i]\n",
    "        sum += i\n",
    "    return sum/len(t)\n",
    "\n",
    "li = [123,243,456,678,890]\n",
    "\n",
    "averageLinearDS(li)"
   ]
  },
  {
   "cell_type": "code",
   "execution_count": null,
   "metadata": {},
   "outputs": [],
   "source": [
    "# Function to search in a Linear Data Structure  using iterable objects\n",
    "\n",
    "def searchLinearDS(ds,key):\n",
    "    for i in range(0,len(ds)):  # here iterable objects cannot be used because index should be return as output.so use range()\n",
    "            if ds[i]==key:\n",
    "                return i\n",
    "    return -1\n",
    "print(searchLinearDS(li,945))  # li already created. refer above.\n",
    "print(searchLinearDS(li,456))   "
   ]
  },
  {
   "cell_type": "code",
   "execution_count": 24,
   "metadata": {},
   "outputs": [
    {
     "data": {
      "text/plain": [
       "890"
      ]
     },
     "execution_count": 24,
     "metadata": {},
     "output_type": "execute_result"
    }
   ],
   "source": [
    "# function to identify the maximum element in a data structure\n",
    "\n",
    "def maxelementDS(ds):\n",
    "    m=ds[0]\n",
    "    for item in ds:\n",
    "        if item>m:\n",
    "            m=item\n",
    "    return m\n",
    "\n",
    "\n",
    "maxelementDS(li)    # li already created. refer above.\n",
    "        \n",
    "        "
   ]
  },
  {
   "cell_type": "markdown",
   "metadata": {},
   "source": [
    "### python Dictionaries"
   ]
  },
  {
   "cell_type": "code",
   "execution_count": 29,
   "metadata": {},
   "outputs": [
    {
     "name": "stdout",
     "output_type": "stream",
     "text": [
      "9247222111\n"
     ]
    }
   ],
   "source": [
    "d1 = {'gayatri': 9248048027, 'phani kumar': 9247222111 }   # All keys in dictionary are unique\n",
    "print(d1['phani kumar'])"
   ]
  },
  {
   "cell_type": "code",
   "execution_count": 26,
   "metadata": {},
   "outputs": [
    {
     "data": {
      "text/plain": [
       "dict_keys(['gayatri', 'phani kumar'])"
      ]
     },
     "execution_count": 26,
     "metadata": {},
     "output_type": "execute_result"
    }
   ],
   "source": [
    "d1.keys()   # All keys in dictionary are unique"
   ]
  },
  {
   "cell_type": "code",
   "execution_count": 27,
   "metadata": {},
   "outputs": [
    {
     "data": {
      "text/plain": [
       "dict_values([9248048027, 9247222111])"
      ]
     },
     "execution_count": 27,
     "metadata": {},
     "output_type": "execute_result"
    }
   ],
   "source": [
    "d1.values()"
   ]
  },
  {
   "cell_type": "code",
   "execution_count": 30,
   "metadata": {},
   "outputs": [
    {
     "data": {
      "text/plain": [
       "{'gayatri': 9248048027, 'phani kumar': 9247222111, 'sailaja': 8885551098}"
      ]
     },
     "execution_count": 30,
     "metadata": {},
     "output_type": "execute_result"
    }
   ],
   "source": [
    "d1['sailaja']=8885551098\n",
    "d1\n"
   ]
  },
  {
   "cell_type": "code",
   "execution_count": 31,
   "metadata": {},
   "outputs": [
    {
     "data": {
      "text/plain": [
       "{'gayatri': 9248048027, 'phani kumar': 9247222111}"
      ]
     },
     "execution_count": 31,
     "metadata": {},
     "output_type": "execute_result"
    }
   ],
   "source": [
    "d1.pop('sailaja')   # removes a key and value\n",
    "d1\n"
   ]
  },
  {
   "cell_type": "code",
   "execution_count": 33,
   "metadata": {},
   "outputs": [
    {
     "data": {
      "text/plain": [
       "{'roll no': 501, 'name': 'gayatri'}"
      ]
     },
     "execution_count": 33,
     "metadata": {},
     "output_type": "execute_result"
    }
   ],
   "source": [
    "d2={ 'roll no': 501, 'name' : 'gayatri'}\n",
    "d2\n"
   ]
  },
  {
   "cell_type": "code",
   "execution_count": 34,
   "metadata": {},
   "outputs": [
    {
     "name": "stdout",
     "output_type": "stream",
     "text": [
      "gayatri : 9248048027\n",
      "phani kumar : 9247222111\n"
     ]
    }
   ],
   "source": [
    "# contacts Application\n",
    "# add, display contacts\n",
    "\n",
    "\n",
    "contacts={}\n",
    "\n",
    "def addcontact(d, name, phone):\n",
    "    d[name]=phone\n",
    "    return\n",
    "\n",
    "def displaycontacts(d):\n",
    "    for name, phone in d.items():\n",
    "        print(name, \":\" , phone)\n",
    "    return\n",
    "\n",
    "\n",
    "\n",
    "addcontact(contacts, 'gayatri',9248048027)\n",
    "addcontact(contacts, 'phani kumar', 9247222111)\n",
    "\n",
    "displaycontacts(contacts)\n",
    "\n",
    "        \n",
    "\n",
    "\n",
    "        \n",
    "    \n",
    "\n",
    "\n"
   ]
  },
  {
   "cell_type": "code",
   "execution_count": 36,
   "metadata": {},
   "outputs": [
    {
     "name": "stdout",
     "output_type": "stream",
     "text": [
      "sailaja : 8885551098\n",
      "sailaja : 8885551098\n",
      "gayatri : 7680883575\n"
     ]
    }
   ],
   "source": [
    "# contacts Application\n",
    "# add, display, modify contacts\n",
    "\n",
    "\n",
    "contacts={}\n",
    "\n",
    "def addcontact(d, name, phone):\n",
    "    d[name]=phone\n",
    "    return\n",
    "\n",
    "def displaycontacts(d):\n",
    "    for name, phone in d.items():\n",
    "        print(name, \":\" , phone)\n",
    "    return\n",
    "\n",
    "def modifycontacts(d, name, newphone):\n",
    "    d[name]=newphone\n",
    "    return\n",
    "\n",
    "def deletecontact(d, name):\n",
    "    d.pop(name)\n",
    "    return\n",
    "\n",
    "addcontact(contacts,'sailaja',8885551098)\n",
    "displaycontacts(contacts)\n",
    "\n",
    "modifycontacts(contacts, 'gayatri', 7680883575)\n",
    "displaycontacts(contacts)\n",
    "deletecontact(contacts,'gayatri')\n"
   ]
  },
  {
   "cell_type": "code",
   "execution_count": 38,
   "metadata": {},
   "outputs": [
    {
     "name": "stdout",
     "output_type": "stream",
     "text": [
      "<class 'list'>\n"
     ]
    },
    {
     "data": {
      "text/plain": [
       "[1, 2, 3, 4, 5]"
      ]
     },
     "execution_count": 38,
     "metadata": {},
     "output_type": "execute_result"
    }
   ],
   "source": [
    "li4=[5,4,3,2,1]\n",
    "li4=list(reversed(li4))\n",
    "print(type(li4))\n",
    "li4\n"
   ]
  },
  {
   "cell_type": "code",
   "execution_count": 39,
   "metadata": {},
   "outputs": [
    {
     "name": "stdout",
     "output_type": "stream",
     "text": [
      "0 : 1\n",
      "1 : 2\n",
      "2 : 3\n",
      "3 : 4\n",
      "4 : 5\n"
     ]
    }
   ],
   "source": [
    "#  enumerate is used to access elements in ds with  value along with index\n",
    "enumerate(li4)\n",
    "for i, value in enumerate(li4):\n",
    "    print(i, ':', value)"
   ]
  },
  {
   "cell_type": "code",
   "execution_count": 40,
   "metadata": {},
   "outputs": [],
   "source": [
    "li3=[1,2,3,4]\n"
   ]
  },
  {
   "cell_type": "code",
   "execution_count": 41,
   "metadata": {},
   "outputs": [
    {
     "name": "stdout",
     "output_type": "stream",
     "text": [
      "1 1\n",
      "2 2\n",
      "3 3\n",
      "4 4\n"
     ]
    },
    {
     "data": {
      "text/plain": [
       "<zip at 0x2074e1fd388>"
      ]
     },
     "execution_count": 41,
     "metadata": {},
     "output_type": "execute_result"
    }
   ],
   "source": [
    "#zip is used to combine two different lists\n",
    "\n",
    "li3\n",
    "li4\n",
    "for i, j in zip(li3,li4):\n",
    "    print(i,j)\n",
    "zip(li3,li4)"
   ]
  },
  {
   "cell_type": "markdown",
   "metadata": {},
   "source": [
    "## Regular Expressions\n"
   ]
  },
  {
   "cell_type": "markdown",
   "metadata": {},
   "source": [
    ".[0-0]. RE for all digits appearing once  ie single digits\n",
    ".[0,1,2,3,....9]\n",
    "\n",
    ".[a-z].  RE for all lower case letters\n",
    ".[A-Z]. RE for all upper case letters\n",
    "\n",
    ".[01]. or .[10].     RE for all 0s and 1s\n",
    ".[0-5]. RE for all numbers from 0-5\n",
    "\n"
   ]
  },
  {
   "cell_type": "code",
   "execution_count": null,
   "metadata": {},
   "outputs": [],
   "source": [
    "#Homework given by Akash Sir\n",
    "\n",
    "# 1) function to validate college student roll no\n",
    "\n",
    "#2) Function to validate Indian phone numbers starts with 9,8,7,6 and have 10 digits\n",
    "\n",
    "\n",
    "#3) function to validate email address\n",
    "\n",
    "      username@domain.extension\n",
    "      username= { string of length 9.  can contain digits, _, alphabet}\n",
    "        domain= {string of atmost 9. can contain digits and alphabet}\n",
    "        extension={ len of 3. only alphabets}"
   ]
  },
  {
   "cell_type": "code",
   "execution_count": 44,
   "metadata": {},
   "outputs": [
    {
     "name": "stdout",
     "output_type": "stream",
     "text": [
      "['e', 'a', 'd', 'b', 'e', 'a']\n"
     ]
    }
   ],
   "source": [
    "import re \n",
    "p = re.compile('[a-e]') \n",
    "print(p.findall(\"Aye, said Mr. Gibenson Stark\")) "
   ]
  },
  {
   "cell_type": "code",
   "execution_count": 48,
   "metadata": {},
   "outputs": [
    {
     "name": "stdout",
     "output_type": "stream",
     "text": [
      "['152U1A0501']\n",
      "['152U1A0599']\n"
     ]
    }
   ],
   "source": [
    "import re\n",
    "p=re.compile('[1][5][2][uU][1][aA][0][1-9][0-9][0-9]')\n",
    "print(p.findall(\"152U1A0501\"))\n",
    "print(p.findall(\"152U1A0599\"))\n"
   ]
  },
  {
   "cell_type": "code",
   "execution_count": 60,
   "metadata": {},
   "outputs": [
    {
     "name": "stdout",
     "output_type": "stream",
     "text": [
      "['152U1A0501']\n",
      "['152U1A0599']\n"
     ]
    }
   ],
   "source": [
    "#function to validate college student roll no - code 1\n",
    "\n",
    "import re\n",
    "def isvalidRno():\n",
    "    p=re.compile('[1][5][2][uU][1][aA][0][1-9][0-9][0-9]')\n",
    "    print(p.findall(\"152U1A0501\"))\n",
    "    print(p.findall(\"152U1A0599\"))\n",
    "    return\n",
    "\n",
    "isvalidRno()"
   ]
  },
  {
   "cell_type": "code",
   "execution_count": 72,
   "metadata": {},
   "outputs": [
    {
     "name": "stdout",
     "output_type": "stream",
     "text": [
      "valid Roll No\n"
     ]
    }
   ],
   "source": [
    "#function to validate college student roll no - code 2\n",
    "\n",
    "import re\n",
    "def isvalidRno(rollno):\n",
    "    if re.match('[1][5][2][uU][1][aA][0][1-9][A-C a-c 0-9][0-9]', rollno) != None:\n",
    "        return True\n",
    "    return False\n",
    "\n",
    "\n",
    "\n",
    "if isvalidRno(\"152U1A05b9\") ==  True:\n",
    "    print(\"valid Roll No\")\n",
    "else:\n",
    "    print(\"Invalid Roll No\")  \n",
    "    \n",
    "    \n",
    "    "
   ]
  },
  {
   "cell_type": "code",
   "execution_count": 65,
   "metadata": {},
   "outputs": [
    {
     "data": {
      "text/plain": [
       "True"
      ]
     },
     "execution_count": 65,
     "metadata": {},
     "output_type": "execute_result"
    }
   ],
   "source": [
    "# Function to validate indian mobile numnber  -  code 1\n",
    "\n",
    "import re\n",
    "def isvalidphone(phone):\n",
    "    if re.match('^[9876][0-9]{9}$', phone)  != None:\n",
    "        return True\n",
    "    return False\n",
    "\n",
    "isvalidphone(\"9248048027\")"
   ]
  },
  {
   "cell_type": "code",
   "execution_count": 166,
   "metadata": {},
   "outputs": [
    {
     "ename": "TypeError",
     "evalue": "'str' object is not callable",
     "output_type": "error",
     "traceback": [
      "\u001b[1;31m---------------------------------------------------------------------------\u001b[0m",
      "\u001b[1;31mTypeError\u001b[0m                                 Traceback (most recent call last)",
      "\u001b[1;32m<ipython-input-166-64f79d9a9169>\u001b[0m in \u001b[0;36m<module>\u001b[1;34m\u001b[0m\n\u001b[0;32m      8\u001b[0m     \u001b[1;32mreturn\u001b[0m \u001b[1;32mFalse\u001b[0m\u001b[1;33m\u001b[0m\u001b[1;33m\u001b[0m\u001b[0m\n\u001b[0;32m      9\u001b[0m \u001b[1;33m\u001b[0m\u001b[0m\n\u001b[1;32m---> 10\u001b[1;33m \u001b[0mphoneNumberValidator\u001b[0m\u001b[1;33m(\u001b[0m\u001b[1;36m1234567890\u001b[0m\u001b[1;33m)\u001b[0m\u001b[1;33m\u001b[0m\u001b[1;33m\u001b[0m\u001b[0m\n\u001b[0m\u001b[0;32m     11\u001b[0m \u001b[1;33m\u001b[0m\u001b[0m\n",
      "\u001b[1;32m<ipython-input-166-64f79d9a9169>\u001b[0m in \u001b[0;36mphoneNumberValidator\u001b[1;34m(phone)\u001b[0m\n\u001b[0;32m      2\u001b[0m \u001b[1;32mimport\u001b[0m \u001b[0mre\u001b[0m\u001b[1;33m\u001b[0m\u001b[1;33m\u001b[0m\u001b[0m\n\u001b[0;32m      3\u001b[0m \u001b[1;32mdef\u001b[0m \u001b[0mphoneNumberValidator\u001b[0m\u001b[1;33m(\u001b[0m\u001b[0mphone\u001b[0m\u001b[1;33m)\u001b[0m\u001b[1;33m:\u001b[0m\u001b[1;33m\u001b[0m\u001b[1;33m\u001b[0m\u001b[0m\n\u001b[1;32m----> 4\u001b[1;33m     \u001b[0mphone\u001b[0m \u001b[1;33m=\u001b[0m \u001b[0mstr\u001b[0m\u001b[1;33m(\u001b[0m\u001b[0mphone\u001b[0m\u001b[1;33m)\u001b[0m\u001b[1;33m\u001b[0m\u001b[1;33m\u001b[0m\u001b[0m\n\u001b[0m\u001b[0;32m      5\u001b[0m     \u001b[0mpattern\u001b[0m \u001b[1;33m=\u001b[0m \u001b[1;34m'^[6-9][0-9]{9}$'\u001b[0m\u001b[1;33m\u001b[0m\u001b[1;33m\u001b[0m\u001b[0m\n\u001b[0;32m      6\u001b[0m     \u001b[1;32mif\u001b[0m \u001b[0mre\u001b[0m\u001b[1;33m.\u001b[0m\u001b[0mmatch\u001b[0m\u001b[1;33m(\u001b[0m\u001b[0mpattern\u001b[0m\u001b[1;33m,\u001b[0m \u001b[0mphone\u001b[0m\u001b[1;33m)\u001b[0m\u001b[1;33m:\u001b[0m\u001b[1;33m\u001b[0m\u001b[1;33m\u001b[0m\u001b[0m\n",
      "\u001b[1;31mTypeError\u001b[0m: 'str' object is not callable"
     ]
    }
   ],
   "source": [
    "# Function to validate indian mobile numnber  -  code 2 Akash Sir code\n",
    "import re\n",
    "def phoneNumberValidator(phone):\n",
    "    phone = str(phone)\n",
    "    pattern = '^[6-9][0-9]{9}$'\n",
    "    if re.match(pattern, phone):\n",
    "        return True\n",
    "    return False\n",
    "\n",
    "phoneNumberValidator(1234567890)\n",
    "\n"
   ]
  },
  {
   "cell_type": "code",
   "execution_count": null,
   "metadata": {},
   "outputs": [],
   "source": [
    "# RE for validating email address\n",
    "\n",
    "^[a-z][a-z0-9_.]{5,14}[@][a-z0-9]{3,12}[.][a-z]{2,3}[.]?[a-z]?[a-z]?$"
   ]
  },
  {
   "cell_type": "code",
   "execution_count": 82,
   "metadata": {},
   "outputs": [],
   "source": [
    "s1 ='Introduction to programming concepts with scratch, Scratch environment, sprites looks and motion, Angles and directions, repetition and variation, changing costumes, adding background, Input/Output,  variables and operators. Working with sounds and sprite communication and creating stories, App Generation.'\n"
   ]
  },
  {
   "cell_type": "code",
   "execution_count": 165,
   "metadata": {},
   "outputs": [
    {
     "data": {
      "text/plain": [
       "['Introduction to programming concepts with scratch',\n",
       " 'Scratch environment',\n",
       " 'sprites looks and motion',\n",
       " 'Angles and directions',\n",
       " 'repetition and variation',\n",
       " 'changing costumes',\n",
       " 'adding background',\n",
       " 'Input/Output',\n",
       " ' variables and operators. Working with sounds and sprite communication and creating stories',\n",
       " 'App Generation.']"
      ]
     },
     "execution_count": 165,
     "metadata": {},
     "output_type": "execute_result"
    }
   ],
   "source": [
    "syllabusList = re.split('[,][\\ ]',s1)\n",
    "syllabusList"
   ]
  },
  {
   "cell_type": "markdown",
   "metadata": {},
   "source": [
    "### python Date Time Arithmetic"
   ]
  },
  {
   "cell_type": "code",
   "execution_count": 86,
   "metadata": {},
   "outputs": [
    {
     "data": {
      "text/plain": [
       "datetime.datetime(2019, 5, 31, 17, 5, 40, 948470)"
      ]
     },
     "execution_count": 86,
     "metadata": {},
     "output_type": "execute_result"
    }
   ],
   "source": [
    "import datetime\n",
    "datetime.datetime.now()"
   ]
  },
  {
   "cell_type": "code",
   "execution_count": 87,
   "metadata": {},
   "outputs": [
    {
     "data": {
      "text/plain": [
       "datetime.datetime"
      ]
     },
     "execution_count": 87,
     "metadata": {},
     "output_type": "execute_result"
    }
   ],
   "source": [
    "import datetime\n",
    "type(datetime.datetime.now())"
   ]
  },
  {
   "cell_type": "code",
   "execution_count": null,
   "metadata": {},
   "outputs": [],
   "source": [
    "import datetime\n",
    "datetime.datetime.now().year   #package.class.method.attribute"
   ]
  },
  {
   "cell_type": "code",
   "execution_count": 88,
   "metadata": {},
   "outputs": [
    {
     "data": {
      "text/plain": [
       "2019"
      ]
     },
     "execution_count": 88,
     "metadata": {},
     "output_type": "execute_result"
    }
   ],
   "source": [
    "import datetime\n",
    "now=datetime.datetime.now()\n",
    "now.year\n"
   ]
  },
  {
   "cell_type": "code",
   "execution_count": 89,
   "metadata": {},
   "outputs": [
    {
     "data": {
      "text/plain": [
       "31"
      ]
     },
     "execution_count": 89,
     "metadata": {},
     "output_type": "execute_result"
    }
   ],
   "source": [
    "import datetime\n",
    "now=datetime.datetime.now()\n",
    "now.day"
   ]
  },
  {
   "cell_type": "code",
   "execution_count": 91,
   "metadata": {},
   "outputs": [
    {
     "data": {
      "text/plain": [
       "16"
      ]
     },
     "execution_count": 91,
     "metadata": {},
     "output_type": "execute_result"
    }
   ],
   "source": [
    "import datetime\n",
    "now=datetime.datetime.now()\n",
    "now.second"
   ]
  },
  {
   "cell_type": "code",
   "execution_count": 92,
   "metadata": {},
   "outputs": [
    {
     "data": {
      "text/plain": [
       "8"
      ]
     },
     "execution_count": 92,
     "metadata": {},
     "output_type": "execute_result"
    }
   ],
   "source": [
    "import datetime\n",
    "now=datetime.datetime.now()\n",
    "now.minute"
   ]
  },
  {
   "cell_type": "code",
   "execution_count": 93,
   "metadata": {},
   "outputs": [
    {
     "name": "stdout",
     "output_type": "stream",
     "text": [
      "17 9 33\n"
     ]
    }
   ],
   "source": [
    "import datetime\n",
    "now=datetime.datetime.now()\n",
    "print(now.hour,now.minute,now.second)"
   ]
  },
  {
   "cell_type": "code",
   "execution_count": 94,
   "metadata": {},
   "outputs": [
    {
     "name": "stdout",
     "output_type": "stream",
     "text": [
      "17 9 52\n",
      "2019-05-31 17:09:52.719318\n"
     ]
    }
   ],
   "source": [
    "import datetime\n",
    "now=datetime.datetime.now()\n",
    "print(now.hour,now.minute,now.second)\n",
    "print(now)"
   ]
  },
  {
   "cell_type": "code",
   "execution_count": 103,
   "metadata": {},
   "outputs": [
    {
     "name": "stdout",
     "output_type": "stream",
     "text": [
      "Current date = 2019-05-31\n"
     ]
    }
   ],
   "source": [
    "# current date\n",
    "from datetime import date\n",
    "today = date.today()\n",
    "print(\"Current date =\", today)"
   ]
  },
  {
   "cell_type": "code",
   "execution_count": 101,
   "metadata": {},
   "outputs": [
    {
     "name": "stdout",
     "output_type": "stream",
     "text": [
      "5 days, 0:00:00\n"
     ]
    }
   ],
   "source": [
    "#  Exp No-13  function to find difference between two given dates without using built-in function - code1\n",
    "# YYYY:MM:DD is date format in a string\n",
    "\n",
    "import datetime\n",
    "def dateDifference(date1,date2):\n",
    "    year1= int(date1[:4])\n",
    "    month1=int(date1[5:7])\n",
    "    day1=int(date1[8:])\n",
    "    year2=int(date2[:4])\n",
    "    month2=int(date2[5:7])\n",
    "    day2=int(date2[8:])\n",
    "    \n",
    "    d1=datetime.date(year1,month1,day1)\n",
    "    d2=datetime.date(year2,month2,day2)\n",
    "    return d2-d1\n",
    "\n",
    "print(dateDifference('2019:05:27','2019:06:01'))\n",
    "\n"
   ]
  },
  {
   "cell_type": "code",
   "execution_count": null,
   "metadata": {},
   "outputs": [],
   "source": [
    "# Exp No-13 function to find difference between two given dates with using built-in function - code2\n",
    "# YYYY:MM:DD is date format in a string\n",
    "\n",
    "\n",
    "\n",
    "\n"
   ]
  },
  {
   "cell_type": "code",
   "execution_count": null,
   "metadata": {},
   "outputs": [],
   "source": [
    "# Exp No-14 function to find difference between two given times without using built-in function - code1\n",
    "# HH:MM:SS is time format in a string"
   ]
  },
  {
   "cell_type": "code",
   "execution_count": null,
   "metadata": {},
   "outputs": [],
   "source": [
    "# Exp No-14 function to find difference between two given times with using built-in function - code2\n",
    "# HH:MM:SS is time format in a string"
   ]
  },
  {
   "cell_type": "code",
   "execution_count": 107,
   "metadata": {},
   "outputs": [
    {
     "name": "stdout",
     "output_type": "stream",
     "text": [
      "True False\n"
     ]
    }
   ],
   "source": [
    "#2020-true\n",
    "#1900 - false\n",
    "#16oo-true\n",
    "#2008-true\n",
    "#400-true\n",
    "#600-false\n",
    "def isLeap(year):\n",
    "    if (year % 4 == 0 and year % 100 !=0) or (year % 400 == 0):\n",
    "        return True\n",
    "    return False\n",
    "\n",
    "v1=isLeap(2020)\n",
    "v2=isLeap(600)\n",
    "print(v1, v2)"
   ]
  },
  {
   "cell_type": "markdown",
   "metadata": {},
   "source": [
    "## List comprehensions"
   ]
  },
  {
   "cell_type": "code",
   "execution_count": 108,
   "metadata": {},
   "outputs": [
    {
     "data": {
      "text/plain": [
       "21"
      ]
     },
     "execution_count": 108,
     "metadata": {},
     "output_type": "execute_result"
    }
   ],
   "source": [
    "li=[1,2,3,4,5,6]\n",
    "sum(li)"
   ]
  },
  {
   "cell_type": "code",
   "execution_count": 111,
   "metadata": {},
   "outputs": [
    {
     "data": {
      "text/plain": [
       "range(0, 123)"
      ]
     },
     "execution_count": 111,
     "metadata": {},
     "output_type": "execute_result"
    }
   ],
   "source": [
    "range(123)"
   ]
  },
  {
   "cell_type": "code",
   "execution_count": 116,
   "metadata": {},
   "outputs": [
    {
     "data": {
      "text/plain": [
       "[0, 1, 2, 3, 4, 5, 6, 7, 8]"
      ]
     },
     "execution_count": 116,
     "metadata": {},
     "output_type": "execute_result"
    }
   ],
   "source": [
    "list(range(9))"
   ]
  },
  {
   "cell_type": "code",
   "execution_count": 117,
   "metadata": {},
   "outputs": [
    {
     "data": {
      "text/plain": [
       "[0, 1, 2, 3, 4, 5, 6, 7, 8, 9]"
      ]
     },
     "execution_count": 117,
     "metadata": {},
     "output_type": "execute_result"
    }
   ],
   "source": [
    "list(range(9+1))"
   ]
  },
  {
   "cell_type": "code",
   "execution_count": 118,
   "metadata": {},
   "outputs": [
    {
     "data": {
      "text/plain": [
       "36"
      ]
     },
     "execution_count": 118,
     "metadata": {},
     "output_type": "execute_result"
    }
   ],
   "source": [
    "sum(list(range(9)))"
   ]
  },
  {
   "cell_type": "code",
   "execution_count": 121,
   "metadata": {},
   "outputs": [
    {
     "data": {
      "text/plain": [
       "45"
      ]
     },
     "execution_count": 121,
     "metadata": {},
     "output_type": "execute_result"
    }
   ],
   "source": [
    "# sum of list of 10 natural numbers\n",
    "sum(list(range(9+1)))"
   ]
  },
  {
   "cell_type": "code",
   "execution_count": 114,
   "metadata": {},
   "outputs": [
    {
     "name": "stdout",
     "output_type": "stream",
     "text": [
      "7626\n"
     ]
    }
   ],
   "source": [
    "# sum of 123 natural numbers\n",
    "n=123\n",
    "range(123)\n",
    "print(sum(range(123+1)))\n"
   ]
  },
  {
   "cell_type": "code",
   "execution_count": 123,
   "metadata": {},
   "outputs": [
    {
     "data": {
      "text/plain": [
       "[1.0,\n",
       " 1.4142135623730951,\n",
       " 1.7320508075688772,\n",
       " 2.0,\n",
       " 2.23606797749979,\n",
       " 2.449489742783178,\n",
       " 2.6457513110645907,\n",
       " 2.8284271247461903,\n",
       " 3.0,\n",
       " 3.1622776601683795]"
      ]
     },
     "execution_count": 123,
     "metadata": {},
     "output_type": "execute_result"
    }
   ],
   "source": [
    "# function to calculate squareroot of n natural numbers\n",
    "from math import sqrt\n",
    "\n",
    "def sqrtNNaturalNumbers(n):\n",
    "    sqrtlist=[sqrt(i) for i in list(range(1,n+1))]\n",
    "    return sqrtlist\n",
    "\n",
    "sqrtNNaturalNumbers(10)\n",
    "\n",
    "\n",
    "\n"
   ]
  },
  {
   "cell_type": "code",
   "execution_count": 124,
   "metadata": {},
   "outputs": [
    {
     "data": {
      "text/plain": [
       "22.4682781862041"
      ]
     },
     "execution_count": 124,
     "metadata": {},
     "output_type": "execute_result"
    }
   ],
   "source": [
    "# function to calculate sum of squareroot of n natural numbers\n",
    "from math import sqrt\n",
    "\n",
    "def sqrtNNaturalNumbers(n):\n",
    "    sqrtlist=sum([sqrt(i) for i in list(range(1,n+1))])\n",
    "    return sqrtlist\n",
    "\n",
    "sqrtNNaturalNumbers(10)\n",
    "\n"
   ]
  },
  {
   "cell_type": "code",
   "execution_count": 125,
   "metadata": {},
   "outputs": [
    {
     "data": {
      "text/plain": [
       "[1, 2, 3, 4, 5, 6]"
      ]
     },
     "execution_count": 125,
     "metadata": {},
     "output_type": "execute_result"
    }
   ],
   "source": [
    "li\n"
   ]
  },
  {
   "cell_type": "code",
   "execution_count": 126,
   "metadata": {},
   "outputs": [
    {
     "data": {
      "text/plain": [
       "[1, 4, 9, 16, 25, 36]"
      ]
     },
     "execution_count": 126,
     "metadata": {},
     "output_type": "execute_result"
    }
   ],
   "source": [
    "# function to calculate square of all elements in list and return a list must consists of all its squares\n",
    "\n",
    "def squareListElements(li):\n",
    "    return [i**2 for i in li]\n",
    "\n",
    "squareListElements(li)\n"
   ]
  },
  {
   "cell_type": "code",
   "execution_count": 129,
   "metadata": {},
   "outputs": [
    {
     "data": {
      "text/plain": [
       "[9, 18, 27, 36, 45]"
      ]
     },
     "execution_count": 129,
     "metadata": {},
     "output_type": "execute_result"
    }
   ],
   "source": [
    "#define function using list comprehension \n",
    "# to findout all values that are divisible by 9 in given list\n",
    "\n",
    "li1=list(range(1,50))\n",
    "\n",
    "def divisible9LC(li1):\n",
    "    return [i for i in li1 if i%9 ==0]\n",
    "\n",
    "divisible9LC(li1)\n",
    "\n"
   ]
  },
  {
   "cell_type": "code",
   "execution_count": 134,
   "metadata": {},
   "outputs": [
    {
     "data": {
      "text/plain": [
       "[1980, 1984, 1988, 1992, 1996, 2000, 2004, 2008, 2012, 2016]"
      ]
     },
     "execution_count": 134,
     "metadata": {},
     "output_type": "execute_result"
    }
   ],
   "source": [
    "# find out the list of all leap years in last 50 years - code 1\n",
    "\n",
    "li2=list(range(1979,2019))\n",
    "\n",
    "def leapyearList(li2):\n",
    "    return [i for i in li2 if (i%4 ==0 and i% 100 !=0)  or i%400 == 0]\n",
    "\n",
    "leapyearList(li2)"
   ]
  },
  {
   "cell_type": "code",
   "execution_count": 135,
   "metadata": {},
   "outputs": [
    {
     "data": {
      "text/plain": [
       "[1980, 1984, 1988, 1992, 1996, 2000, 2004, 2008, 2012, 2016]"
      ]
     },
     "execution_count": 135,
     "metadata": {},
     "output_type": "execute_result"
    }
   ],
   "source": [
    "# find out the list of all leap years in last 50 years - code 2\n",
    "\n",
    "li2=list(range(1979,2019)) \n",
    "[i for i in li2 if (i%4 ==0 and i% 100 !=0)  or i%400 == 0]\n"
   ]
  },
  {
   "cell_type": "markdown",
   "metadata": {},
   "source": [
    "## Maps\n",
    "functions and iterators are passed as parameters to maps"
   ]
  },
  {
   "cell_type": "code",
   "execution_count": 138,
   "metadata": {},
   "outputs": [
    {
     "data": {
      "text/plain": [
       "<map at 0x2074e23e9e8>"
      ]
     },
     "execution_count": 138,
     "metadata": {},
     "output_type": "execute_result"
    }
   ],
   "source": [
    ")n n ** 3\n",
    "map(cube,li)  # map returns map object \n",
    "\n",
    "\n"
   ]
  },
  {
   "cell_type": "code",
   "execution_count": 139,
   "metadata": {},
   "outputs": [
    {
     "data": {
      "text/plain": [
       "[1, 8, 27, 64, 125, 216]"
      ]
     },
     "execution_count": 139,
     "metadata": {},
     "output_type": "execute_result"
    }
   ],
   "source": [
    "# define a function to calculate the cubes of all numbers in a list\n",
    "# we can do it using list comprehension or maps\n",
    "# here we develop code using maps\n",
    "li=[1,2,3,4,5,6]\n",
    "def cube(n):\n",
    "    return n ** 3\n",
    "map(cube,li)  # map returns map object. so convert map to list as follows.\n",
    "list(map(cube,li))\n"
   ]
  },
  {
   "cell_type": "code",
   "execution_count": 144,
   "metadata": {},
   "outputs": [
    {
     "data": {
      "text/plain": [
       "441"
      ]
     },
     "execution_count": 144,
     "metadata": {},
     "output_type": "execute_result"
    }
   ],
   "source": [
    "li=[1,2,3,4,5,6]\n",
    "def cube(n):\n",
    "    return n ** 3\n",
    "\n",
    "sum(list(map(cube, li)))\n"
   ]
  },
  {
   "cell_type": "code",
   "execution_count": 147,
   "metadata": {},
   "outputs": [
    {
     "data": {
      "text/plain": [
       "[1, 2, 3, 4, 5, 6]"
      ]
     },
     "execution_count": 147,
     "metadata": {},
     "output_type": "execute_result"
    }
   ],
   "source": [
    "def cube(n):\n",
    "    return n ** 3\n",
    "for i in li:   #using loop\n",
    "    cube(i)\n",
    "li"
   ]
  },
  {
   "cell_type": "code",
   "execution_count": 148,
   "metadata": {},
   "outputs": [
    {
     "data": {
      "text/plain": [
       "[1, 2, 3, 4, 5, 6]"
      ]
     },
     "execution_count": 148,
     "metadata": {},
     "output_type": "execute_result"
    }
   ],
   "source": [
    "def cube(n):\n",
    "    return n ** 3\n",
    "sum([cube(i) for i in li])   #using list comprehension\n",
    "li\n"
   ]
  },
  {
   "cell_type": "code",
   "execution_count": 149,
   "metadata": {},
   "outputs": [
    {
     "data": {
      "text/plain": [
       "[1, 2, 3, 4, 5, 6]"
      ]
     },
     "execution_count": 149,
     "metadata": {},
     "output_type": "execute_result"
    }
   ],
   "source": [
    "li=[1,2,3,4,5,6]\n",
    "def cube(n):\n",
    "    return n ** 3\n",
    "\n",
    "sum(list(map(cube, li)))   #using map\n",
    "\n",
    "li\n"
   ]
  },
  {
   "cell_type": "code",
   "execution_count": 164,
   "metadata": {},
   "outputs": [
    {
     "data": {
      "text/plain": [
       "[1, 2, 3, 0]"
      ]
     },
     "execution_count": 164,
     "metadata": {},
     "output_type": "execute_result"
    }
   ],
   "source": [
    "# function to convert number into words\n",
    "\n",
    "#123\n",
    "#1  2   3\n",
    "\n",
    "def listofdigits(n):\n",
    "    digit = []\n",
    "    i = 0\n",
    "    while(n!=0):\n",
    "        digit.append(n%10)\n",
    "        n = n // 10\n",
    "        i+=1\n",
    "    return digit[-1::-1]\n",
    "\n",
    "def numbertowords(n):\n",
    "    digits=listofdigits(n)\n",
    "    dictdigits = {1:'one',2:'two',3:'three',4:'four'}\n",
    "    dictplaceholder={0:'units',1:'tens',2:'hundred',3:'thousand'}\n",
    "    #for i in range(0,len(digits)):\n",
    "        \n",
    "    return digits\n",
    "\n",
    "numbertowords(1230)\n",
    "    "
   ]
  },
  {
   "cell_type": "code",
   "execution_count": null,
   "metadata": {},
   "outputs": [],
   "source": []
  }
 ],
 "metadata": {
  "kernelspec": {
   "display_name": "Python 3",
   "language": "python",
   "name": "python3"
  },
  "language_info": {
   "codemirror_mode": {
    "name": "ipython",
    "version": 3
   },
   "file_extension": ".py",
   "mimetype": "text/x-python",
   "name": "python",
   "nbconvert_exporter": "python",
   "pygments_lexer": "ipython3",
   "version": "3.7.3"
  }
 },
 "nbformat": 4,
 "nbformat_minor": 2
}
