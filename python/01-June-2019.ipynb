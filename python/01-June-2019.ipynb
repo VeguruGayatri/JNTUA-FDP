{
 "cells": [
  {
   "cell_type": "markdown",
   "metadata": {},
   "source": [
    "## JNTUA-FDP  \n",
    "### Date : 01 June 2019\n",
    "#### Day Objectives\n",
    "* packages and modules in python\n",
    "* Turtle Graphics\n",
    "* File Handling\n",
    "* python Libraries for Data processing, Analysis, Visualization and machine learning\n",
    "    * **numpy** - array processing\n",
    "    * **pandas** - Data Analytics\n",
    "    * **Matplotlib** - Data Visualization\n",
    "    * **scikit-learn** - machine learning\n",
    "\n"
   ]
  },
  {
   "cell_type": "markdown",
   "metadata": {},
   "source": [
    "#### Packages and Modules\n",
    "* package- collection of subpackages or modules\n",
    "* subpackage-collection of subpackages or modules\n",
    "* module- single python file consisting of functions\n",
    "* function- logical block of code to do specific task\n"
   ]
  },
  {
   "cell_type": "code",
   "execution_count": 4,
   "metadata": {},
   "outputs": [
    {
     "data": {
      "text/plain": [
       "64"
      ]
     },
     "execution_count": 4,
     "metadata": {},
     "output_type": "execute_result"
    }
   ],
   "source": [
    "# Accessing the basic module in numerical package\n",
    "\n",
    "import Numerical.basic    # Numerical is package and basic is module in that\n",
    "\n",
    "Numerical.basic.power(2,6)\n",
    "\n"
   ]
  },
  {
   "cell_type": "code",
   "execution_count": 6,
   "metadata": {},
   "outputs": [
    {
     "name": "stdout",
     "output_type": "stream",
     "text": [
      "56\n",
      "63\n",
      "70\n",
      "77\n",
      "84\n",
      "91\n",
      "98\n"
     ]
    }
   ],
   "source": [
    "import Numerical.basic as a\n",
    "\n",
    "a.divisible7(50,100)"
   ]
  },
  {
   "cell_type": "code",
   "execution_count": 4,
   "metadata": {},
   "outputs": [
    {
     "data": {
      "text/plain": [
       "False"
      ]
     },
     "execution_count": 4,
     "metadata": {},
     "output_type": "execute_result"
    }
   ],
   "source": [
    "from Numerical import basic as a\n",
    "\n",
    "a.divisibilitytest(990)"
   ]
  },
  {
   "cell_type": "code",
   "execution_count": 5,
   "metadata": {},
   "outputs": [
    {
     "data": {
      "text/plain": [
       "True"
      ]
     },
     "execution_count": 5,
     "metadata": {},
     "output_type": "execute_result"
    }
   ],
   "source": [
    "from Numerical.basic import divisibilitytest\n",
    "divisibilitytest(9999)"
   ]
  },
  {
   "cell_type": "code",
   "execution_count": 6,
   "metadata": {},
   "outputs": [
    {
     "data": {
      "text/plain": [
       "False"
      ]
     },
     "execution_count": 6,
     "metadata": {},
     "output_type": "execute_result"
    }
   ],
   "source": [
    "from Numerical.basic import divisibilitytest as dt\n",
    "dt(9999999)"
   ]
  },
  {
   "cell_type": "code",
   "execution_count": 14,
   "metadata": {},
   "outputs": [
    {
     "name": "stdout",
     "output_type": "stream",
     "text": [
      "2 3 5 7 11 13 17 19 23 "
     ]
    }
   ],
   "source": [
    "from Numerical.primes import genprimes as gp\n",
    "\n",
    "gp(9)\n",
    "\n"
   ]
  },
  {
   "cell_type": "code",
   "execution_count": null,
   "metadata": {},
   "outputs": [],
   "source": []
  },
  {
   "cell_type": "code",
   "execution_count": 1,
   "metadata": {},
   "outputs": [],
   "source": [
    "import turtle as t\n",
    "wn=t.Screen()   # creates a turtle graphics screen\n",
    "t1=t.Turtle()   # creates a turtle object\n",
    "t1.forward(90)\n",
    "t1.right(90)\n",
    "t1.forward(90)\n",
    "t1.right(90)\n",
    "t1.forward(90)\n",
    "t1.right(90)\n",
    "t1.forward(90)\n",
    "t1.right(90)\n",
    "wn.mainloop()   # allow the user to close the screen\n"
   ]
  },
  {
   "cell_type": "markdown",
   "metadata": {},
   "source": [
    "### File Handling\n"
   ]
  },
  {
   "cell_type": "code",
   "execution_count": 9,
   "metadata": {},
   "outputs": [
    {
     "data": {
      "text/plain": [
       "'Course Objectives:\\n1.To introduce programming through Visual programming tool - Scratch\\n2.To teach problem solving through Flow charting tool - Raptor\\n3.To elucidate problem solving through python programming language\\n4.To introduce  function-oriented programming paradigm through python\\n5.To train in development of  solutions using modular concepts\\n6.To teach practical Pythonic solution patterns\\n'"
      ]
     },
     "execution_count": 9,
     "metadata": {},
     "output_type": "execute_result"
    }
   ],
   "source": [
    "# define a function to read file data for a given file\n",
    "def readfile(filename):\n",
    "    f=open(filename,'r')\n",
    "    filedata=f.read()\n",
    "    return filedata\n",
    "\n",
    "filename='datafiles/data.txt'\n",
    "readfile(filename)\n",
    "         \n",
    "       \n",
    "\n",
    "\n",
    "\n",
    "\n",
    "\n",
    "\n"
   ]
  },
  {
   "cell_type": "code",
   "execution_count": 4,
   "metadata": {},
   "outputs": [
    {
     "data": {
      "text/plain": [
       "['Course Objectives:\\n',\n",
       " '1.To introduce programming through Visual programming tool - Scratch\\n',\n",
       " '2.To teach problem solving through Flow charting tool - Raptor\\n',\n",
       " '3.To elucidate problem solving through python programming language\\n',\n",
       " '4.To introduce  function-oriented programming paradigm through python\\n',\n",
       " '5.To train in development of  solutions using modular concepts\\n',\n",
       " '6.To teach practical Pythonic solution patterns\\n']"
      ]
     },
     "execution_count": 4,
     "metadata": {},
     "output_type": "execute_result"
    }
   ],
   "source": [
    "# define a function to read file data for a given file\n",
    "def readfile(filename):\n",
    "    f=open(filename,'r')\n",
    "    filedata=f.readlines()  #readlines is a function which returns a list of lines in the file\n",
    "    f.close()\n",
    "    return filedata\n",
    "\n",
    "filename='datafiles/data.txt'\n",
    "readfile(filename)\n",
    "         \n",
    "       "
   ]
  },
  {
   "cell_type": "code",
   "execution_count": 4,
   "metadata": {},
   "outputs": [
    {
     "data": {
      "text/plain": [
       "47"
      ]
     },
     "execution_count": 4,
     "metadata": {},
     "output_type": "execute_result"
    }
   ],
   "source": [
    "# function to find no.of words in text file using RE\n",
    "\n",
    "import re\n",
    "def readfile(filename):\n",
    "    f=open(filename,'r')\n",
    "    filedata=f.read()  #readlines()  should not be used here \n",
    "    f.close()\n",
    "    return filedata\n",
    "\n",
    "filename='datafiles/data.txt'\n",
    "len(re.split('\\ ', readfile(filename)))\n",
    "\n"
   ]
  },
  {
   "cell_type": "code",
   "execution_count": 10,
   "metadata": {},
   "outputs": [
    {
     "data": {
      "text/plain": [
       "{'Course': 1,\n",
       " 'Objectives:\\n1.To': 1,\n",
       " 'introduce': 2,\n",
       " 'programming': 4,\n",
       " 'through': 4,\n",
       " 'Visual': 1,\n",
       " 'tool': 2,\n",
       " '-': 3,\n",
       " 'Scratch\\n2.To': 1,\n",
       " 'teach': 2,\n",
       " 'problem': 2,\n",
       " 'solving': 2,\n",
       " 'Flow': 1,\n",
       " 'charting': 1,\n",
       " 'Raptor\\n3.To': 1,\n",
       " 'elucidate': 1,\n",
       " 'python': 2,\n",
       " 'language\\n4.To': 1,\n",
       " '': 400,\n",
       " 'function-oriented': 1,\n",
       " 'paradigm': 1,\n",
       " 'python\\n5.To': 1,\n",
       " 'train': 1,\n",
       " 'in': 12,\n",
       " 'development': 1,\n",
       " 'of': 1,\n",
       " 'solutions': 1,\n",
       " 'using': 1,\n",
       " 'modular': 1,\n",
       " 'concepts\\n6.To': 1,\n",
       " 'practical': 1,\n",
       " 'Pythonic': 1,\n",
       " 'solution': 2,\n",
       " 'patterns\\n': 1}"
      ]
     },
     "execution_count": 10,
     "metadata": {},
     "output_type": "execute_result"
    }
   ],
   "source": [
    "# Exp No-19 \n",
    "# function to find frequency count of words in file\n",
    "# 1. unique data in the form of a dictionary\n",
    "#                {'to':0,'introduce':0....}\n",
    "# 2. calculate the frequency for all keys in the dictionary\n",
    "#        for every key in dictionary :\n",
    "#                        count the no.of times the key is repeating in data\n",
    "#       Assign the count of each key to the corresponding dictionary value\n",
    "\n",
    "\n",
    "#function to read data from file\n",
    "\n",
    "def readfile(filename):\n",
    "    f=open(filename,'r')\n",
    "    filedata=f.read()  #readlines()  should not be used here \n",
    "    f.close()\n",
    "    return filedata\n",
    "\n",
    "\n",
    "# function to extract unique words in a text file\n",
    "import re\n",
    "def extractuniquewords(filename):\n",
    "    filedata = readfile(filename)  # function call of readfile()\n",
    "    wordlist= re.split('\\ ',filedata)\n",
    "    uniquewords={}\n",
    "    for word in wordlist:\n",
    "        if word not in uniquewords.keys():\n",
    "            uniquewords[word]=1\n",
    "    return uniquewords\n",
    "\n",
    "filename='datafiles/data.txt'\n",
    "uniqueWords=extractuniquewords(filename)\n",
    "\n",
    "\n",
    "# function to calculate the frequency of words from given data\n",
    "def frequencytable(data, uniquedata):\n",
    "    for word in uniquedata.keys():\n",
    "        uniquedata[word]=len(re.findall(word,data))\n",
    "    return uniquedata\n",
    "\n",
    "filedata=readfile(filename)\n",
    "frequencytable(filedata,uniqueWords)\n",
    "\n",
    "\n",
    "    \n"
   ]
  },
  {
   "cell_type": "code",
   "execution_count": null,
   "metadata": {},
   "outputs": [],
   "source": []
  }
 ],
 "metadata": {
  "kernelspec": {
   "display_name": "Python 3",
   "language": "python",
   "name": "python3"
  }
 },
 "nbformat": 4,
 "nbformat_minor": 2
}
